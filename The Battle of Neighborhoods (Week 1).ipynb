{
    "cells": [
        {
            "cell_type": "markdown",
            "metadata": {
                "collapsed": true
            },
            "source": "# The Battle of the Neighborhoods - Week 1\n    A description of the problem and a discussion of the background\n\n## Introduction & Business Problem :\n\n### Problem Background:"
        },
        {
            "cell_type": "markdown",
            "metadata": {},
            "source": "The City of New York,is the most populous city in the United States with an estimated 2018 population of 8,398,748 distributed over about 302.6 square miles (784 km2). It is diverse and is the financial capital of USA. It is multicultural. It provides lot of business oppourtunities and business friendly environment. It has attracted many different players into the market. It is a global hub of business and commerce. The city is a major center for banking and finance, retailing, world trade, transportation, tourism, real estate, new media, traditional media, advertising, legal services, accountancy, insurance, theater, fashion, and the arts in the United States.\n\nThis also means that the market is highly competitive. As it is highly developed city so cost of doing business is also one of the highest. Thus, any new business venture or expansion needs to be analysed carefully. The insights derived from analysis will give good understanding of the business environment which help in strategically targeting the market. This will help in reduction of risk. And the Return on Investment will be reasonable."
        },
        {
            "cell_type": "markdown",
            "metadata": {},
            "source": "### Problem Description:"
        },
        {
            "cell_type": "markdown",
            "metadata": {},
            "source": "A restaurant is a business which prepares and serves food and drink to customers in return for money, either paid before the meal, after the meal, or with an open account. The City of New York is famous for its excelllent cuisine. It's food culture includes an array of international cuisines influenced by the city's immigrant history.\n\n1. Central and Eastern European immigrants, especially Jewish immigrants - bagels, cheesecake, hot dogs, knishes, and delicatessens\n\n2. Italian immigrants - New York-style pizza and Italian cuisine\n\n3. Jewish immigrants and Irish immigrants - pastrami and corned beef\n\n4. Chinese and other Asian restaurants, sandwich joints, trattorias, diners, and coffeehouses are ubiquitous throughout the city\n\n5. mobile food vendors - Some 4,000 licensed by the city\n\n6. Middle Eastern foods such as falafel and kebabs examples of modern New York street food\n\n7. It is famous for not just Pizzerias, Cafe's but also for fine dining Michelin starred restaurants.The city is home to \"nearly one thousand of the finest and most diverse haute cuisine restaurants in the world\", according to Michelin."
        },
        {
            "cell_type": "markdown",
            "metadata": {},
            "source": "So it is evident that to survive in such competitive market it is very important to startegically plan. In the present project various factors will be studied so as to decide on the Location such as :\n\n1. New York City Demographics\n\n2. Who are the competitors in that location?\n\n3. Cuisine served / Menu of the competitors\n\n4. Segmentation of the Borough\n\n5. Untapped markets\n\n6. Saturated markets"
        },
        {
            "cell_type": "markdown",
            "metadata": {},
            "source": "### Target Audience:"
        },
        {
            "cell_type": "markdown",
            "metadata": {},
            "source": "\nTo recommend the correct location, Data Solutions has appointed me to lead of the Data Science team. The objective is to locate and recommend to the management which neighborhood of Newyork city will be best choice to start a restaurant. The Management also expects to understand the rationale of the recommendations made.\nThis would interest anyone who wants to start a new restaurant in Newyork city."
        },
        {
            "cell_type": "markdown",
            "metadata": {},
            "source": "### Success Criteria:\n\nThe success criteria of the project will be a good recommendation of borough/Neighborhood choice to Data Solutions based on lack of such restaurants in that location and nearest suppliers of ingredients."
        },
        {
            "cell_type": "markdown",
            "metadata": {},
            "source": "# The Battle of the Neighborhoods - Week 1\n    A description of the data and how it will be used to solve the problem."
        },
        {
            "cell_type": "markdown",
            "metadata": {},
            "source": "One city will be analysed in this project : Newyork City.\n\nNeighborhood has a total of 5 boroughs and 306 neighborhoods. In order to segement the neighborhoods and explore them, we will essentially need a dataset that contains the 5 boroughs and the neighborhoods that exist in each borough as well as the the latitude and logitude coordinates of each neighborhood.\n\nLuckily, this dataset exists for free on the web. Feel free to try to find this dataset on your own, but here is the link to the dataset: \n\nhttps://geo.nyu.edu/catalog/nyu_2451_34572"
        },
        {
            "cell_type": "markdown",
            "metadata": {},
            "source": "For the below analysis we will get data from wikipedia as given below :\n\n- New York Population\n- New York City Demographics\n- Cuisine of New York city\n\nhttps://en.wikipedia.org/wiki/New_York_City \n\nhttps://en.wikipedia.org/wiki/Economy_of_New_York_City\n\nhttps://en.wikipedia.org/wiki/Portal:New_York_City\n\nhttps://en.wikipedia.org/wiki/Cuisine_of_New_York_City\n\nhttps://en.wikipedia.org/wiki/List_of_Michelin_starred_restaurants_in_New_York_City"
        },
        {
            "cell_type": "markdown",
            "metadata": {},
            "source": "Newyork city geographical coordinates data will be utilized as input for the Foursquare API, that will be leveraged to provision venues information for each neighborhood.We will use the Foursquare API to explore neighborhoods in New York City. The below is image of the Foursquare API data."
        },
        {
            "cell_type": "code",
            "execution_count": null,
            "metadata": {},
            "outputs": [],
            "source": ""
        }
    ],
    "metadata": {
        "kernelspec": {
            "display_name": "Python 3.6",
            "language": "python",
            "name": "python3"
        },
        "language_info": {
            "codemirror_mode": {
                "name": "ipython",
                "version": 3
            },
            "file_extension": ".py",
            "mimetype": "text/x-python",
            "name": "python",
            "nbconvert_exporter": "python",
            "pygments_lexer": "ipython3",
            "version": "3.6.9"
        }
    },
    "nbformat": 4,
    "nbformat_minor": 1
}